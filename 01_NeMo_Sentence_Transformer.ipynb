{
  "nbformat": 4,
  "nbformat_minor": 0,
  "metadata": {
    "colab": {
      "provenance": [],
      "gpuType": "T4"
    },
    "kernelspec": {
      "name": "python3",
      "display_name": "Python 3"
    },
    "language_info": {
      "name": "python"
    },
    "accelerator": "GPU",
    "widgets": {
      "application/vnd.jupyter.widget-state+json": {
        "2076c526e35e49e7923e41b2e0e8e79f": {
          "model_module": "@jupyter-widgets/controls",
          "model_name": "HBoxModel",
          "model_module_version": "1.5.0",
          "state": {
            "_dom_classes": [],
            "_model_module": "@jupyter-widgets/controls",
            "_model_module_version": "1.5.0",
            "_model_name": "HBoxModel",
            "_view_count": null,
            "_view_module": "@jupyter-widgets/controls",
            "_view_module_version": "1.5.0",
            "_view_name": "HBoxView",
            "box_style": "",
            "children": [
              "IPY_MODEL_4724d6d43f11420abac2354db355b45b",
              "IPY_MODEL_0276678215c34f948548dc8b57087b32",
              "IPY_MODEL_99f736e4d4054f8e95af475a857aea4d"
            ],
            "layout": "IPY_MODEL_2aa694760ea44245a6b196c927ec9466"
          }
        },
        "4724d6d43f11420abac2354db355b45b": {
          "model_module": "@jupyter-widgets/controls",
          "model_name": "HTMLModel",
          "model_module_version": "1.5.0",
          "state": {
            "_dom_classes": [],
            "_model_module": "@jupyter-widgets/controls",
            "_model_module_version": "1.5.0",
            "_model_name": "HTMLModel",
            "_view_count": null,
            "_view_module": "@jupyter-widgets/controls",
            "_view_module_version": "1.5.0",
            "_view_name": "HTMLView",
            "description": "",
            "description_tooltip": null,
            "layout": "IPY_MODEL_7ad490d0fc384f7a86aefa9f0d3ce718",
            "placeholder": "​",
            "style": "IPY_MODEL_08b28e772e03402db152eca10e8d2eae",
            "value": "Sanity Checking: "
          }
        },
        "0276678215c34f948548dc8b57087b32": {
          "model_module": "@jupyter-widgets/controls",
          "model_name": "FloatProgressModel",
          "model_module_version": "1.5.0",
          "state": {
            "_dom_classes": [],
            "_model_module": "@jupyter-widgets/controls",
            "_model_module_version": "1.5.0",
            "_model_name": "FloatProgressModel",
            "_view_count": null,
            "_view_module": "@jupyter-widgets/controls",
            "_view_module_version": "1.5.0",
            "_view_name": "ProgressView",
            "bar_style": "info",
            "description": "",
            "description_tooltip": null,
            "layout": "IPY_MODEL_e2368b8371f94bfd878addbe9ec4cde2",
            "max": 1,
            "min": 0,
            "orientation": "horizontal",
            "style": "IPY_MODEL_296f9850bf934d7b94bc40a02b4bdb8d",
            "value": 0
          }
        },
        "99f736e4d4054f8e95af475a857aea4d": {
          "model_module": "@jupyter-widgets/controls",
          "model_name": "HTMLModel",
          "model_module_version": "1.5.0",
          "state": {
            "_dom_classes": [],
            "_model_module": "@jupyter-widgets/controls",
            "_model_module_version": "1.5.0",
            "_model_name": "HTMLModel",
            "_view_count": null,
            "_view_module": "@jupyter-widgets/controls",
            "_view_module_version": "1.5.0",
            "_view_name": "HTMLView",
            "description": "",
            "description_tooltip": null,
            "layout": "IPY_MODEL_efb3743a39b04f8c865e8d00a943f1a1",
            "placeholder": "​",
            "style": "IPY_MODEL_8acfd06bac8b4bf0b0b2f5372ee1a885",
            "value": " 0/? [00:00&lt;?, ?it/s]"
          }
        },
        "2aa694760ea44245a6b196c927ec9466": {
          "model_module": "@jupyter-widgets/base",
          "model_name": "LayoutModel",
          "model_module_version": "1.2.0",
          "state": {
            "_model_module": "@jupyter-widgets/base",
            "_model_module_version": "1.2.0",
            "_model_name": "LayoutModel",
            "_view_count": null,
            "_view_module": "@jupyter-widgets/base",
            "_view_module_version": "1.2.0",
            "_view_name": "LayoutView",
            "align_content": null,
            "align_items": null,
            "align_self": null,
            "border": null,
            "bottom": null,
            "display": "inline-flex",
            "flex": null,
            "flex_flow": "row wrap",
            "grid_area": null,
            "grid_auto_columns": null,
            "grid_auto_flow": null,
            "grid_auto_rows": null,
            "grid_column": null,
            "grid_gap": null,
            "grid_row": null,
            "grid_template_areas": null,
            "grid_template_columns": null,
            "grid_template_rows": null,
            "height": null,
            "justify_content": null,
            "justify_items": null,
            "left": null,
            "margin": null,
            "max_height": null,
            "max_width": null,
            "min_height": null,
            "min_width": null,
            "object_fit": null,
            "object_position": null,
            "order": null,
            "overflow": null,
            "overflow_x": null,
            "overflow_y": null,
            "padding": null,
            "right": null,
            "top": null,
            "visibility": "hidden",
            "width": "100%"
          }
        },
        "7ad490d0fc384f7a86aefa9f0d3ce718": {
          "model_module": "@jupyter-widgets/base",
          "model_name": "LayoutModel",
          "model_module_version": "1.2.0",
          "state": {
            "_model_module": "@jupyter-widgets/base",
            "_model_module_version": "1.2.0",
            "_model_name": "LayoutModel",
            "_view_count": null,
            "_view_module": "@jupyter-widgets/base",
            "_view_module_version": "1.2.0",
            "_view_name": "LayoutView",
            "align_content": null,
            "align_items": null,
            "align_self": null,
            "border": null,
            "bottom": null,
            "display": null,
            "flex": null,
            "flex_flow": null,
            "grid_area": null,
            "grid_auto_columns": null,
            "grid_auto_flow": null,
            "grid_auto_rows": null,
            "grid_column": null,
            "grid_gap": null,
            "grid_row": null,
            "grid_template_areas": null,
            "grid_template_columns": null,
            "grid_template_rows": null,
            "height": null,
            "justify_content": null,
            "justify_items": null,
            "left": null,
            "margin": null,
            "max_height": null,
            "max_width": null,
            "min_height": null,
            "min_width": null,
            "object_fit": null,
            "object_position": null,
            "order": null,
            "overflow": null,
            "overflow_x": null,
            "overflow_y": null,
            "padding": null,
            "right": null,
            "top": null,
            "visibility": null,
            "width": null
          }
        },
        "08b28e772e03402db152eca10e8d2eae": {
          "model_module": "@jupyter-widgets/controls",
          "model_name": "DescriptionStyleModel",
          "model_module_version": "1.5.0",
          "state": {
            "_model_module": "@jupyter-widgets/controls",
            "_model_module_version": "1.5.0",
            "_model_name": "DescriptionStyleModel",
            "_view_count": null,
            "_view_module": "@jupyter-widgets/base",
            "_view_module_version": "1.2.0",
            "_view_name": "StyleView",
            "description_width": ""
          }
        },
        "e2368b8371f94bfd878addbe9ec4cde2": {
          "model_module": "@jupyter-widgets/base",
          "model_name": "LayoutModel",
          "model_module_version": "1.2.0",
          "state": {
            "_model_module": "@jupyter-widgets/base",
            "_model_module_version": "1.2.0",
            "_model_name": "LayoutModel",
            "_view_count": null,
            "_view_module": "@jupyter-widgets/base",
            "_view_module_version": "1.2.0",
            "_view_name": "LayoutView",
            "align_content": null,
            "align_items": null,
            "align_self": null,
            "border": null,
            "bottom": null,
            "display": null,
            "flex": "2",
            "flex_flow": null,
            "grid_area": null,
            "grid_auto_columns": null,
            "grid_auto_flow": null,
            "grid_auto_rows": null,
            "grid_column": null,
            "grid_gap": null,
            "grid_row": null,
            "grid_template_areas": null,
            "grid_template_columns": null,
            "grid_template_rows": null,
            "height": null,
            "justify_content": null,
            "justify_items": null,
            "left": null,
            "margin": null,
            "max_height": null,
            "max_width": null,
            "min_height": null,
            "min_width": null,
            "object_fit": null,
            "object_position": null,
            "order": null,
            "overflow": null,
            "overflow_x": null,
            "overflow_y": null,
            "padding": null,
            "right": null,
            "top": null,
            "visibility": null,
            "width": null
          }
        },
        "296f9850bf934d7b94bc40a02b4bdb8d": {
          "model_module": "@jupyter-widgets/controls",
          "model_name": "ProgressStyleModel",
          "model_module_version": "1.5.0",
          "state": {
            "_model_module": "@jupyter-widgets/controls",
            "_model_module_version": "1.5.0",
            "_model_name": "ProgressStyleModel",
            "_view_count": null,
            "_view_module": "@jupyter-widgets/base",
            "_view_module_version": "1.2.0",
            "_view_name": "StyleView",
            "bar_color": null,
            "description_width": ""
          }
        },
        "efb3743a39b04f8c865e8d00a943f1a1": {
          "model_module": "@jupyter-widgets/base",
          "model_name": "LayoutModel",
          "model_module_version": "1.2.0",
          "state": {
            "_model_module": "@jupyter-widgets/base",
            "_model_module_version": "1.2.0",
            "_model_name": "LayoutModel",
            "_view_count": null,
            "_view_module": "@jupyter-widgets/base",
            "_view_module_version": "1.2.0",
            "_view_name": "LayoutView",
            "align_content": null,
            "align_items": null,
            "align_self": null,
            "border": null,
            "bottom": null,
            "display": null,
            "flex": null,
            "flex_flow": null,
            "grid_area": null,
            "grid_auto_columns": null,
            "grid_auto_flow": null,
            "grid_auto_rows": null,
            "grid_column": null,
            "grid_gap": null,
            "grid_row": null,
            "grid_template_areas": null,
            "grid_template_columns": null,
            "grid_template_rows": null,
            "height": null,
            "justify_content": null,
            "justify_items": null,
            "left": null,
            "margin": null,
            "max_height": null,
            "max_width": null,
            "min_height": null,
            "min_width": null,
            "object_fit": null,
            "object_position": null,
            "order": null,
            "overflow": null,
            "overflow_x": null,
            "overflow_y": null,
            "padding": null,
            "right": null,
            "top": null,
            "visibility": null,
            "width": null
          }
        },
        "8acfd06bac8b4bf0b0b2f5372ee1a885": {
          "model_module": "@jupyter-widgets/controls",
          "model_name": "DescriptionStyleModel",
          "model_module_version": "1.5.0",
          "state": {
            "_model_module": "@jupyter-widgets/controls",
            "_model_module_version": "1.5.0",
            "_model_name": "DescriptionStyleModel",
            "_view_count": null,
            "_view_module": "@jupyter-widgets/base",
            "_view_module_version": "1.2.0",
            "_view_name": "StyleView",
            "description_width": ""
          }
        },
        "3ff5ab2a123c4a6ab2ac3be3b43949b5": {
          "model_module": "@jupyter-widgets/controls",
          "model_name": "HBoxModel",
          "model_module_version": "1.5.0",
          "state": {
            "_dom_classes": [],
            "_model_module": "@jupyter-widgets/controls",
            "_model_module_version": "1.5.0",
            "_model_name": "HBoxModel",
            "_view_count": null,
            "_view_module": "@jupyter-widgets/controls",
            "_view_module_version": "1.5.0",
            "_view_name": "HBoxView",
            "box_style": "",
            "children": [
              "IPY_MODEL_de80c94086d44b8f9b6ab77de7d20d84",
              "IPY_MODEL_68301c93b9b24d4f9fdd4871477ed2bc",
              "IPY_MODEL_246236f6c74a49d39ccad4c90e4ea75c"
            ],
            "layout": "IPY_MODEL_06bec4fc6ef046559ca56824178c17a3"
          }
        },
        "de80c94086d44b8f9b6ab77de7d20d84": {
          "model_module": "@jupyter-widgets/controls",
          "model_name": "HTMLModel",
          "model_module_version": "1.5.0",
          "state": {
            "_dom_classes": [],
            "_model_module": "@jupyter-widgets/controls",
            "_model_module_version": "1.5.0",
            "_model_name": "HTMLModel",
            "_view_count": null,
            "_view_module": "@jupyter-widgets/controls",
            "_view_module_version": "1.5.0",
            "_view_name": "HTMLView",
            "description": "",
            "description_tooltip": null,
            "layout": "IPY_MODEL_80fb812b56744834b47575bcea9713dc",
            "placeholder": "​",
            "style": "IPY_MODEL_e0944d5b5e034f198348623910c0a717",
            "value": "Epoch 2: 100%"
          }
        },
        "68301c93b9b24d4f9fdd4871477ed2bc": {
          "model_module": "@jupyter-widgets/controls",
          "model_name": "FloatProgressModel",
          "model_module_version": "1.5.0",
          "state": {
            "_dom_classes": [],
            "_model_module": "@jupyter-widgets/controls",
            "_model_module_version": "1.5.0",
            "_model_name": "FloatProgressModel",
            "_view_count": null,
            "_view_module": "@jupyter-widgets/controls",
            "_view_module_version": "1.5.0",
            "_view_name": "ProgressView",
            "bar_style": "success",
            "description": "",
            "description_tooltip": null,
            "layout": "IPY_MODEL_e737e730f1fc49c0a37be1092766fb00",
            "max": 189,
            "min": 0,
            "orientation": "horizontal",
            "style": "IPY_MODEL_c04863bdbfd34517903733fc28b6784d",
            "value": 189
          }
        },
        "246236f6c74a49d39ccad4c90e4ea75c": {
          "model_module": "@jupyter-widgets/controls",
          "model_name": "HTMLModel",
          "model_module_version": "1.5.0",
          "state": {
            "_dom_classes": [],
            "_model_module": "@jupyter-widgets/controls",
            "_model_module_version": "1.5.0",
            "_model_name": "HTMLModel",
            "_view_count": null,
            "_view_module": "@jupyter-widgets/controls",
            "_view_module_version": "1.5.0",
            "_view_name": "HTMLView",
            "description": "",
            "description_tooltip": null,
            "layout": "IPY_MODEL_6fdd6ea0076649d7b34ced8f2630b838",
            "placeholder": "​",
            "style": "IPY_MODEL_7079df845591404cb1362189d43b2d70",
            "value": " 189/189 [02:36&lt;00:00,  1.20it/s, loss=4.81, v_num=10]"
          }
        },
        "06bec4fc6ef046559ca56824178c17a3": {
          "model_module": "@jupyter-widgets/base",
          "model_name": "LayoutModel",
          "model_module_version": "1.2.0",
          "state": {
            "_model_module": "@jupyter-widgets/base",
            "_model_module_version": "1.2.0",
            "_model_name": "LayoutModel",
            "_view_count": null,
            "_view_module": "@jupyter-widgets/base",
            "_view_module_version": "1.2.0",
            "_view_name": "LayoutView",
            "align_content": null,
            "align_items": null,
            "align_self": null,
            "border": null,
            "bottom": null,
            "display": "inline-flex",
            "flex": null,
            "flex_flow": "row wrap",
            "grid_area": null,
            "grid_auto_columns": null,
            "grid_auto_flow": null,
            "grid_auto_rows": null,
            "grid_column": null,
            "grid_gap": null,
            "grid_row": null,
            "grid_template_areas": null,
            "grid_template_columns": null,
            "grid_template_rows": null,
            "height": null,
            "justify_content": null,
            "justify_items": null,
            "left": null,
            "margin": null,
            "max_height": null,
            "max_width": null,
            "min_height": null,
            "min_width": null,
            "object_fit": null,
            "object_position": null,
            "order": null,
            "overflow": null,
            "overflow_x": null,
            "overflow_y": null,
            "padding": null,
            "right": null,
            "top": null,
            "visibility": null,
            "width": "100%"
          }
        },
        "80fb812b56744834b47575bcea9713dc": {
          "model_module": "@jupyter-widgets/base",
          "model_name": "LayoutModel",
          "model_module_version": "1.2.0",
          "state": {
            "_model_module": "@jupyter-widgets/base",
            "_model_module_version": "1.2.0",
            "_model_name": "LayoutModel",
            "_view_count": null,
            "_view_module": "@jupyter-widgets/base",
            "_view_module_version": "1.2.0",
            "_view_name": "LayoutView",
            "align_content": null,
            "align_items": null,
            "align_self": null,
            "border": null,
            "bottom": null,
            "display": null,
            "flex": null,
            "flex_flow": null,
            "grid_area": null,
            "grid_auto_columns": null,
            "grid_auto_flow": null,
            "grid_auto_rows": null,
            "grid_column": null,
            "grid_gap": null,
            "grid_row": null,
            "grid_template_areas": null,
            "grid_template_columns": null,
            "grid_template_rows": null,
            "height": null,
            "justify_content": null,
            "justify_items": null,
            "left": null,
            "margin": null,
            "max_height": null,
            "max_width": null,
            "min_height": null,
            "min_width": null,
            "object_fit": null,
            "object_position": null,
            "order": null,
            "overflow": null,
            "overflow_x": null,
            "overflow_y": null,
            "padding": null,
            "right": null,
            "top": null,
            "visibility": null,
            "width": null
          }
        },
        "e0944d5b5e034f198348623910c0a717": {
          "model_module": "@jupyter-widgets/controls",
          "model_name": "DescriptionStyleModel",
          "model_module_version": "1.5.0",
          "state": {
            "_model_module": "@jupyter-widgets/controls",
            "_model_module_version": "1.5.0",
            "_model_name": "DescriptionStyleModel",
            "_view_count": null,
            "_view_module": "@jupyter-widgets/base",
            "_view_module_version": "1.2.0",
            "_view_name": "StyleView",
            "description_width": ""
          }
        },
        "e737e730f1fc49c0a37be1092766fb00": {
          "model_module": "@jupyter-widgets/base",
          "model_name": "LayoutModel",
          "model_module_version": "1.2.0",
          "state": {
            "_model_module": "@jupyter-widgets/base",
            "_model_module_version": "1.2.0",
            "_model_name": "LayoutModel",
            "_view_count": null,
            "_view_module": "@jupyter-widgets/base",
            "_view_module_version": "1.2.0",
            "_view_name": "LayoutView",
            "align_content": null,
            "align_items": null,
            "align_self": null,
            "border": null,
            "bottom": null,
            "display": null,
            "flex": "2",
            "flex_flow": null,
            "grid_area": null,
            "grid_auto_columns": null,
            "grid_auto_flow": null,
            "grid_auto_rows": null,
            "grid_column": null,
            "grid_gap": null,
            "grid_row": null,
            "grid_template_areas": null,
            "grid_template_columns": null,
            "grid_template_rows": null,
            "height": null,
            "justify_content": null,
            "justify_items": null,
            "left": null,
            "margin": null,
            "max_height": null,
            "max_width": null,
            "min_height": null,
            "min_width": null,
            "object_fit": null,
            "object_position": null,
            "order": null,
            "overflow": null,
            "overflow_x": null,
            "overflow_y": null,
            "padding": null,
            "right": null,
            "top": null,
            "visibility": null,
            "width": null
          }
        },
        "c04863bdbfd34517903733fc28b6784d": {
          "model_module": "@jupyter-widgets/controls",
          "model_name": "ProgressStyleModel",
          "model_module_version": "1.5.0",
          "state": {
            "_model_module": "@jupyter-widgets/controls",
            "_model_module_version": "1.5.0",
            "_model_name": "ProgressStyleModel",
            "_view_count": null,
            "_view_module": "@jupyter-widgets/base",
            "_view_module_version": "1.2.0",
            "_view_name": "StyleView",
            "bar_color": null,
            "description_width": ""
          }
        },
        "6fdd6ea0076649d7b34ced8f2630b838": {
          "model_module": "@jupyter-widgets/base",
          "model_name": "LayoutModel",
          "model_module_version": "1.2.0",
          "state": {
            "_model_module": "@jupyter-widgets/base",
            "_model_module_version": "1.2.0",
            "_model_name": "LayoutModel",
            "_view_count": null,
            "_view_module": "@jupyter-widgets/base",
            "_view_module_version": "1.2.0",
            "_view_name": "LayoutView",
            "align_content": null,
            "align_items": null,
            "align_self": null,
            "border": null,
            "bottom": null,
            "display": null,
            "flex": null,
            "flex_flow": null,
            "grid_area": null,
            "grid_auto_columns": null,
            "grid_auto_flow": null,
            "grid_auto_rows": null,
            "grid_column": null,
            "grid_gap": null,
            "grid_row": null,
            "grid_template_areas": null,
            "grid_template_columns": null,
            "grid_template_rows": null,
            "height": null,
            "justify_content": null,
            "justify_items": null,
            "left": null,
            "margin": null,
            "max_height": null,
            "max_width": null,
            "min_height": null,
            "min_width": null,
            "object_fit": null,
            "object_position": null,
            "order": null,
            "overflow": null,
            "overflow_x": null,
            "overflow_y": null,
            "padding": null,
            "right": null,
            "top": null,
            "visibility": null,
            "width": null
          }
        },
        "7079df845591404cb1362189d43b2d70": {
          "model_module": "@jupyter-widgets/controls",
          "model_name": "DescriptionStyleModel",
          "model_module_version": "1.5.0",
          "state": {
            "_model_module": "@jupyter-widgets/controls",
            "_model_module_version": "1.5.0",
            "_model_name": "DescriptionStyleModel",
            "_view_count": null,
            "_view_module": "@jupyter-widgets/base",
            "_view_module_version": "1.2.0",
            "_view_name": "StyleView",
            "description_width": ""
          }
        },
        "9712a6620a5d46198c40b4b74a6b61f5": {
          "model_module": "@jupyter-widgets/controls",
          "model_name": "HBoxModel",
          "model_module_version": "1.5.0",
          "state": {
            "_dom_classes": [],
            "_model_module": "@jupyter-widgets/controls",
            "_model_module_version": "1.5.0",
            "_model_name": "HBoxModel",
            "_view_count": null,
            "_view_module": "@jupyter-widgets/controls",
            "_view_module_version": "1.5.0",
            "_view_name": "HBoxView",
            "box_style": "",
            "children": [
              "IPY_MODEL_64b08e1e7e284b5eac5c475bf2dc9910",
              "IPY_MODEL_7710827001644cdf8b5523fd0a50cc40",
              "IPY_MODEL_5810bacde4af4d609fdca3e5b4b215ac"
            ],
            "layout": "IPY_MODEL_c2159f04ccea405b858b885841f4ed17"
          }
        },
        "64b08e1e7e284b5eac5c475bf2dc9910": {
          "model_module": "@jupyter-widgets/controls",
          "model_name": "HTMLModel",
          "model_module_version": "1.5.0",
          "state": {
            "_dom_classes": [],
            "_model_module": "@jupyter-widgets/controls",
            "_model_module_version": "1.5.0",
            "_model_name": "HTMLModel",
            "_view_count": null,
            "_view_module": "@jupyter-widgets/controls",
            "_view_module_version": "1.5.0",
            "_view_name": "HTMLView",
            "description": "",
            "description_tooltip": null,
            "layout": "IPY_MODEL_c4ca05e3b64e468382a266594c817245",
            "placeholder": "​",
            "style": "IPY_MODEL_552690f8b55443488ff930100296320c",
            "value": "Testing DataLoader 0: 100%"
          }
        },
        "7710827001644cdf8b5523fd0a50cc40": {
          "model_module": "@jupyter-widgets/controls",
          "model_name": "FloatProgressModel",
          "model_module_version": "1.5.0",
          "state": {
            "_dom_classes": [],
            "_model_module": "@jupyter-widgets/controls",
            "_model_module_version": "1.5.0",
            "_model_name": "FloatProgressModel",
            "_view_count": null,
            "_view_module": "@jupyter-widgets/controls",
            "_view_module_version": "1.5.0",
            "_view_name": "ProgressView",
            "bar_style": "success",
            "description": "",
            "description_tooltip": null,
            "layout": "IPY_MODEL_8364cac7ca5b4113bda396b19127c702",
            "max": 167,
            "min": 0,
            "orientation": "horizontal",
            "style": "IPY_MODEL_5158751aada4482eb580e11e65fb6842",
            "value": 167
          }
        },
        "5810bacde4af4d609fdca3e5b4b215ac": {
          "model_module": "@jupyter-widgets/controls",
          "model_name": "HTMLModel",
          "model_module_version": "1.5.0",
          "state": {
            "_dom_classes": [],
            "_model_module": "@jupyter-widgets/controls",
            "_model_module_version": "1.5.0",
            "_model_name": "HTMLModel",
            "_view_count": null,
            "_view_module": "@jupyter-widgets/controls",
            "_view_module_version": "1.5.0",
            "_view_name": "HTMLView",
            "description": "",
            "description_tooltip": null,
            "layout": "IPY_MODEL_9d9975bc9f2e42eba36e3f4698bc1592",
            "placeholder": "​",
            "style": "IPY_MODEL_5b3884df98914899aeb7d72c5b5468d9",
            "value": " 167/167 [00:03&lt;00:00, 45.47it/s]"
          }
        },
        "c2159f04ccea405b858b885841f4ed17": {
          "model_module": "@jupyter-widgets/base",
          "model_name": "LayoutModel",
          "model_module_version": "1.2.0",
          "state": {
            "_model_module": "@jupyter-widgets/base",
            "_model_module_version": "1.2.0",
            "_model_name": "LayoutModel",
            "_view_count": null,
            "_view_module": "@jupyter-widgets/base",
            "_view_module_version": "1.2.0",
            "_view_name": "LayoutView",
            "align_content": null,
            "align_items": null,
            "align_self": null,
            "border": null,
            "bottom": null,
            "display": "inline-flex",
            "flex": null,
            "flex_flow": "row wrap",
            "grid_area": null,
            "grid_auto_columns": null,
            "grid_auto_flow": null,
            "grid_auto_rows": null,
            "grid_column": null,
            "grid_gap": null,
            "grid_row": null,
            "grid_template_areas": null,
            "grid_template_columns": null,
            "grid_template_rows": null,
            "height": null,
            "justify_content": null,
            "justify_items": null,
            "left": null,
            "margin": null,
            "max_height": null,
            "max_width": null,
            "min_height": null,
            "min_width": null,
            "object_fit": null,
            "object_position": null,
            "order": null,
            "overflow": null,
            "overflow_x": null,
            "overflow_y": null,
            "padding": null,
            "right": null,
            "top": null,
            "visibility": null,
            "width": "100%"
          }
        },
        "c4ca05e3b64e468382a266594c817245": {
          "model_module": "@jupyter-widgets/base",
          "model_name": "LayoutModel",
          "model_module_version": "1.2.0",
          "state": {
            "_model_module": "@jupyter-widgets/base",
            "_model_module_version": "1.2.0",
            "_model_name": "LayoutModel",
            "_view_count": null,
            "_view_module": "@jupyter-widgets/base",
            "_view_module_version": "1.2.0",
            "_view_name": "LayoutView",
            "align_content": null,
            "align_items": null,
            "align_self": null,
            "border": null,
            "bottom": null,
            "display": null,
            "flex": null,
            "flex_flow": null,
            "grid_area": null,
            "grid_auto_columns": null,
            "grid_auto_flow": null,
            "grid_auto_rows": null,
            "grid_column": null,
            "grid_gap": null,
            "grid_row": null,
            "grid_template_areas": null,
            "grid_template_columns": null,
            "grid_template_rows": null,
            "height": null,
            "justify_content": null,
            "justify_items": null,
            "left": null,
            "margin": null,
            "max_height": null,
            "max_width": null,
            "min_height": null,
            "min_width": null,
            "object_fit": null,
            "object_position": null,
            "order": null,
            "overflow": null,
            "overflow_x": null,
            "overflow_y": null,
            "padding": null,
            "right": null,
            "top": null,
            "visibility": null,
            "width": null
          }
        },
        "552690f8b55443488ff930100296320c": {
          "model_module": "@jupyter-widgets/controls",
          "model_name": "DescriptionStyleModel",
          "model_module_version": "1.5.0",
          "state": {
            "_model_module": "@jupyter-widgets/controls",
            "_model_module_version": "1.5.0",
            "_model_name": "DescriptionStyleModel",
            "_view_count": null,
            "_view_module": "@jupyter-widgets/base",
            "_view_module_version": "1.2.0",
            "_view_name": "StyleView",
            "description_width": ""
          }
        },
        "8364cac7ca5b4113bda396b19127c702": {
          "model_module": "@jupyter-widgets/base",
          "model_name": "LayoutModel",
          "model_module_version": "1.2.0",
          "state": {
            "_model_module": "@jupyter-widgets/base",
            "_model_module_version": "1.2.0",
            "_model_name": "LayoutModel",
            "_view_count": null,
            "_view_module": "@jupyter-widgets/base",
            "_view_module_version": "1.2.0",
            "_view_name": "LayoutView",
            "align_content": null,
            "align_items": null,
            "align_self": null,
            "border": null,
            "bottom": null,
            "display": null,
            "flex": "2",
            "flex_flow": null,
            "grid_area": null,
            "grid_auto_columns": null,
            "grid_auto_flow": null,
            "grid_auto_rows": null,
            "grid_column": null,
            "grid_gap": null,
            "grid_row": null,
            "grid_template_areas": null,
            "grid_template_columns": null,
            "grid_template_rows": null,
            "height": null,
            "justify_content": null,
            "justify_items": null,
            "left": null,
            "margin": null,
            "max_height": null,
            "max_width": null,
            "min_height": null,
            "min_width": null,
            "object_fit": null,
            "object_position": null,
            "order": null,
            "overflow": null,
            "overflow_x": null,
            "overflow_y": null,
            "padding": null,
            "right": null,
            "top": null,
            "visibility": null,
            "width": null
          }
        },
        "5158751aada4482eb580e11e65fb6842": {
          "model_module": "@jupyter-widgets/controls",
          "model_name": "ProgressStyleModel",
          "model_module_version": "1.5.0",
          "state": {
            "_model_module": "@jupyter-widgets/controls",
            "_model_module_version": "1.5.0",
            "_model_name": "ProgressStyleModel",
            "_view_count": null,
            "_view_module": "@jupyter-widgets/base",
            "_view_module_version": "1.2.0",
            "_view_name": "StyleView",
            "bar_color": null,
            "description_width": ""
          }
        },
        "9d9975bc9f2e42eba36e3f4698bc1592": {
          "model_module": "@jupyter-widgets/base",
          "model_name": "LayoutModel",
          "model_module_version": "1.2.0",
          "state": {
            "_model_module": "@jupyter-widgets/base",
            "_model_module_version": "1.2.0",
            "_model_name": "LayoutModel",
            "_view_count": null,
            "_view_module": "@jupyter-widgets/base",
            "_view_module_version": "1.2.0",
            "_view_name": "LayoutView",
            "align_content": null,
            "align_items": null,
            "align_self": null,
            "border": null,
            "bottom": null,
            "display": null,
            "flex": null,
            "flex_flow": null,
            "grid_area": null,
            "grid_auto_columns": null,
            "grid_auto_flow": null,
            "grid_auto_rows": null,
            "grid_column": null,
            "grid_gap": null,
            "grid_row": null,
            "grid_template_areas": null,
            "grid_template_columns": null,
            "grid_template_rows": null,
            "height": null,
            "justify_content": null,
            "justify_items": null,
            "left": null,
            "margin": null,
            "max_height": null,
            "max_width": null,
            "min_height": null,
            "min_width": null,
            "object_fit": null,
            "object_position": null,
            "order": null,
            "overflow": null,
            "overflow_x": null,
            "overflow_y": null,
            "padding": null,
            "right": null,
            "top": null,
            "visibility": null,
            "width": null
          }
        },
        "5b3884df98914899aeb7d72c5b5468d9": {
          "model_module": "@jupyter-widgets/controls",
          "model_name": "DescriptionStyleModel",
          "model_module_version": "1.5.0",
          "state": {
            "_model_module": "@jupyter-widgets/controls",
            "_model_module_version": "1.5.0",
            "_model_name": "DescriptionStyleModel",
            "_view_count": null,
            "_view_module": "@jupyter-widgets/base",
            "_view_module_version": "1.2.0",
            "_view_name": "StyleView",
            "description_width": ""
          }
        },
        "8c997504af5844cbbfd1b5ab2e65f1c9": {
          "model_module": "@jupyter-widgets/controls",
          "model_name": "HBoxModel",
          "model_module_version": "1.5.0",
          "state": {
            "_dom_classes": [],
            "_model_module": "@jupyter-widgets/controls",
            "_model_module_version": "1.5.0",
            "_model_name": "HBoxModel",
            "_view_count": null,
            "_view_module": "@jupyter-widgets/controls",
            "_view_module_version": "1.5.0",
            "_view_name": "HBoxView",
            "box_style": "",
            "children": [
              "IPY_MODEL_3860028945154a12807f9d7b4150fef5",
              "IPY_MODEL_2e29c82693f24c50bac576708d0299a6",
              "IPY_MODEL_cc6f9b3f2a6645d581690936382f3e76"
            ],
            "layout": "IPY_MODEL_67ab95ac70e847a795a2d2d36edbf61b"
          }
        },
        "3860028945154a12807f9d7b4150fef5": {
          "model_module": "@jupyter-widgets/controls",
          "model_name": "HTMLModel",
          "model_module_version": "1.5.0",
          "state": {
            "_dom_classes": [],
            "_model_module": "@jupyter-widgets/controls",
            "_model_module_version": "1.5.0",
            "_model_name": "HTMLModel",
            "_view_count": null,
            "_view_module": "@jupyter-widgets/controls",
            "_view_module_version": "1.5.0",
            "_view_name": "HTMLView",
            "description": "",
            "description_tooltip": null,
            "layout": "IPY_MODEL_e0a10fd0ebc446a88df82ccab5e3a1e4",
            "placeholder": "​",
            "style": "IPY_MODEL_f498b632664846018474f8e295b258a2",
            "value": "Testing DataLoader 0: 100%"
          }
        },
        "2e29c82693f24c50bac576708d0299a6": {
          "model_module": "@jupyter-widgets/controls",
          "model_name": "FloatProgressModel",
          "model_module_version": "1.5.0",
          "state": {
            "_dom_classes": [],
            "_model_module": "@jupyter-widgets/controls",
            "_model_module_version": "1.5.0",
            "_model_name": "FloatProgressModel",
            "_view_count": null,
            "_view_module": "@jupyter-widgets/controls",
            "_view_module_version": "1.5.0",
            "_view_name": "ProgressView",
            "bar_style": "success",
            "description": "",
            "description_tooltip": null,
            "layout": "IPY_MODEL_11e2c2d5065e484db989f5cbc3ddd649",
            "max": 167,
            "min": 0,
            "orientation": "horizontal",
            "style": "IPY_MODEL_a21e21f43b3d40f787d2957cbbea309a",
            "value": 167
          }
        },
        "cc6f9b3f2a6645d581690936382f3e76": {
          "model_module": "@jupyter-widgets/controls",
          "model_name": "HTMLModel",
          "model_module_version": "1.5.0",
          "state": {
            "_dom_classes": [],
            "_model_module": "@jupyter-widgets/controls",
            "_model_module_version": "1.5.0",
            "_model_name": "HTMLModel",
            "_view_count": null,
            "_view_module": "@jupyter-widgets/controls",
            "_view_module_version": "1.5.0",
            "_view_name": "HTMLView",
            "description": "",
            "description_tooltip": null,
            "layout": "IPY_MODEL_3aef29205918450c9a6af6b8f1b54feb",
            "placeholder": "​",
            "style": "IPY_MODEL_1cd494223c2c4ec0a09ee6b8b8e0cd29",
            "value": " 167/167 [00:03&lt;00:00, 44.57it/s]"
          }
        },
        "67ab95ac70e847a795a2d2d36edbf61b": {
          "model_module": "@jupyter-widgets/base",
          "model_name": "LayoutModel",
          "model_module_version": "1.2.0",
          "state": {
            "_model_module": "@jupyter-widgets/base",
            "_model_module_version": "1.2.0",
            "_model_name": "LayoutModel",
            "_view_count": null,
            "_view_module": "@jupyter-widgets/base",
            "_view_module_version": "1.2.0",
            "_view_name": "LayoutView",
            "align_content": null,
            "align_items": null,
            "align_self": null,
            "border": null,
            "bottom": null,
            "display": "inline-flex",
            "flex": null,
            "flex_flow": "row wrap",
            "grid_area": null,
            "grid_auto_columns": null,
            "grid_auto_flow": null,
            "grid_auto_rows": null,
            "grid_column": null,
            "grid_gap": null,
            "grid_row": null,
            "grid_template_areas": null,
            "grid_template_columns": null,
            "grid_template_rows": null,
            "height": null,
            "justify_content": null,
            "justify_items": null,
            "left": null,
            "margin": null,
            "max_height": null,
            "max_width": null,
            "min_height": null,
            "min_width": null,
            "object_fit": null,
            "object_position": null,
            "order": null,
            "overflow": null,
            "overflow_x": null,
            "overflow_y": null,
            "padding": null,
            "right": null,
            "top": null,
            "visibility": null,
            "width": "100%"
          }
        },
        "e0a10fd0ebc446a88df82ccab5e3a1e4": {
          "model_module": "@jupyter-widgets/base",
          "model_name": "LayoutModel",
          "model_module_version": "1.2.0",
          "state": {
            "_model_module": "@jupyter-widgets/base",
            "_model_module_version": "1.2.0",
            "_model_name": "LayoutModel",
            "_view_count": null,
            "_view_module": "@jupyter-widgets/base",
            "_view_module_version": "1.2.0",
            "_view_name": "LayoutView",
            "align_content": null,
            "align_items": null,
            "align_self": null,
            "border": null,
            "bottom": null,
            "display": null,
            "flex": null,
            "flex_flow": null,
            "grid_area": null,
            "grid_auto_columns": null,
            "grid_auto_flow": null,
            "grid_auto_rows": null,
            "grid_column": null,
            "grid_gap": null,
            "grid_row": null,
            "grid_template_areas": null,
            "grid_template_columns": null,
            "grid_template_rows": null,
            "height": null,
            "justify_content": null,
            "justify_items": null,
            "left": null,
            "margin": null,
            "max_height": null,
            "max_width": null,
            "min_height": null,
            "min_width": null,
            "object_fit": null,
            "object_position": null,
            "order": null,
            "overflow": null,
            "overflow_x": null,
            "overflow_y": null,
            "padding": null,
            "right": null,
            "top": null,
            "visibility": null,
            "width": null
          }
        },
        "f498b632664846018474f8e295b258a2": {
          "model_module": "@jupyter-widgets/controls",
          "model_name": "DescriptionStyleModel",
          "model_module_version": "1.5.0",
          "state": {
            "_model_module": "@jupyter-widgets/controls",
            "_model_module_version": "1.5.0",
            "_model_name": "DescriptionStyleModel",
            "_view_count": null,
            "_view_module": "@jupyter-widgets/base",
            "_view_module_version": "1.2.0",
            "_view_name": "StyleView",
            "description_width": ""
          }
        },
        "11e2c2d5065e484db989f5cbc3ddd649": {
          "model_module": "@jupyter-widgets/base",
          "model_name": "LayoutModel",
          "model_module_version": "1.2.0",
          "state": {
            "_model_module": "@jupyter-widgets/base",
            "_model_module_version": "1.2.0",
            "_model_name": "LayoutModel",
            "_view_count": null,
            "_view_module": "@jupyter-widgets/base",
            "_view_module_version": "1.2.0",
            "_view_name": "LayoutView",
            "align_content": null,
            "align_items": null,
            "align_self": null,
            "border": null,
            "bottom": null,
            "display": null,
            "flex": "2",
            "flex_flow": null,
            "grid_area": null,
            "grid_auto_columns": null,
            "grid_auto_flow": null,
            "grid_auto_rows": null,
            "grid_column": null,
            "grid_gap": null,
            "grid_row": null,
            "grid_template_areas": null,
            "grid_template_columns": null,
            "grid_template_rows": null,
            "height": null,
            "justify_content": null,
            "justify_items": null,
            "left": null,
            "margin": null,
            "max_height": null,
            "max_width": null,
            "min_height": null,
            "min_width": null,
            "object_fit": null,
            "object_position": null,
            "order": null,
            "overflow": null,
            "overflow_x": null,
            "overflow_y": null,
            "padding": null,
            "right": null,
            "top": null,
            "visibility": null,
            "width": null
          }
        },
        "a21e21f43b3d40f787d2957cbbea309a": {
          "model_module": "@jupyter-widgets/controls",
          "model_name": "ProgressStyleModel",
          "model_module_version": "1.5.0",
          "state": {
            "_model_module": "@jupyter-widgets/controls",
            "_model_module_version": "1.5.0",
            "_model_name": "ProgressStyleModel",
            "_view_count": null,
            "_view_module": "@jupyter-widgets/base",
            "_view_module_version": "1.2.0",
            "_view_name": "StyleView",
            "bar_color": null,
            "description_width": ""
          }
        },
        "3aef29205918450c9a6af6b8f1b54feb": {
          "model_module": "@jupyter-widgets/base",
          "model_name": "LayoutModel",
          "model_module_version": "1.2.0",
          "state": {
            "_model_module": "@jupyter-widgets/base",
            "_model_module_version": "1.2.0",
            "_model_name": "LayoutModel",
            "_view_count": null,
            "_view_module": "@jupyter-widgets/base",
            "_view_module_version": "1.2.0",
            "_view_name": "LayoutView",
            "align_content": null,
            "align_items": null,
            "align_self": null,
            "border": null,
            "bottom": null,
            "display": null,
            "flex": null,
            "flex_flow": null,
            "grid_area": null,
            "grid_auto_columns": null,
            "grid_auto_flow": null,
            "grid_auto_rows": null,
            "grid_column": null,
            "grid_gap": null,
            "grid_row": null,
            "grid_template_areas": null,
            "grid_template_columns": null,
            "grid_template_rows": null,
            "height": null,
            "justify_content": null,
            "justify_items": null,
            "left": null,
            "margin": null,
            "max_height": null,
            "max_width": null,
            "min_height": null,
            "min_width": null,
            "object_fit": null,
            "object_position": null,
            "order": null,
            "overflow": null,
            "overflow_x": null,
            "overflow_y": null,
            "padding": null,
            "right": null,
            "top": null,
            "visibility": null,
            "width": null
          }
        },
        "1cd494223c2c4ec0a09ee6b8b8e0cd29": {
          "model_module": "@jupyter-widgets/controls",
          "model_name": "DescriptionStyleModel",
          "model_module_version": "1.5.0",
          "state": {
            "_model_module": "@jupyter-widgets/controls",
            "_model_module_version": "1.5.0",
            "_model_name": "DescriptionStyleModel",
            "_view_count": null,
            "_view_module": "@jupyter-widgets/base",
            "_view_module_version": "1.2.0",
            "_view_name": "StyleView",
            "description_width": ""
          }
        }
      }
    }
  },
  "cells": [
    {
      "cell_type": "markdown",
      "source": [
        "This notebook shows how to refactor and train a [SentenceTransformer](https://www.sbert.net/) model architecture using [NVIDIA NeMo](https://docs.nvidia.com/deeplearning/nemo/user-guide/docs/en/main/starthere/intro.html)."
      ],
      "metadata": {
        "id": "0qrWsz30_4cv"
      }
    },
    {
      "cell_type": "markdown",
      "source": [
        "Install all necessary packages"
      ],
      "metadata": {
        "id": "qEEKHvnkfQik"
      }
    },
    {
      "cell_type": "code",
      "execution_count": null,
      "metadata": {
        "id": "mPHkb5bTD8sX"
      },
      "outputs": [],
      "source": [
        "\"\"\"\n",
        "You can run either this notebook locally (if you have all the dependencies and a GPU) or on Google Colab.\n",
        "\n",
        "Instructions for setting up Colab are as follows:\n",
        "1. Open a new Python 3 notebook.\n",
        "2. Import this notebook from GitHub (File -> Upload Notebook -> \"GITHUB\" tab -> copy/paste GitHub URL)\n",
        "3. Connect to an instance with a GPU (Runtime -> Change runtime type -> select \"GPU\" for hardware accelerator)\n",
        "4. Run this cell to set up dependencies.\n",
        "\"\"\"\n",
        "# If you're using Google Colab and not running locally, run this cell.\n",
        "\n",
        "## Install dependencies\n",
        "!pip install wget\n",
        "!apt-get install sox libsndfile1 ffmpeg\n",
        "!pip install text-unidecode\n",
        "\n",
        "## Install NeMo\n",
        "BRANCH = 'r1.20.0'\n",
        "!python -m pip install git+https://github.com/NVIDIA/NeMo.git@$BRANCH#egg=nemo_toolkit[all]\n",
        "\n",
        "## Install Huggingface PEFT\n",
        "!pip install peft"
      ]
    },
    {
      "cell_type": "markdown",
      "source": [
        "Import all necessary libraries"
      ],
      "metadata": {
        "id": "VlhT_kkFg98S"
      }
    },
    {
      "cell_type": "code",
      "source": [
        "from transformers import AutoTokenizer, AutoModel\n",
        "from sentence_transformers.losses import BatchSemiHardTripletLoss\n",
        "from peft import get_peft_config, PeftModel, PeftConfig, get_peft_model, LoraConfig, TaskType\n",
        "\n",
        "import torch\n",
        "from torch import nn, Tensor\n",
        "import torch.nn.functional as F\n",
        "from torch.utils.data import DataLoader\n",
        "from torch.optim import AdamW\n",
        "\n",
        "import nemo\n",
        "from nemo.core.classes import NeuralModule, ModelPT, typecheck\n",
        "from nemo.core.neural_types import *\n",
        "from nemo.core.config import Config\n",
        "import pytorch_lightning as ptl\n",
        "from omegaconf import OmegaConf, MISSING\n",
        "from nemo.core.classes.common import PretrainedModelInfo\n",
        "from nemo.core import Dataset\n",
        "\n",
        "import os\n",
        "from sklearn.preprocessing import LabelEncoder\n",
        "import pandas as pd\n",
        "import copy"
      ],
      "metadata": {
        "id": "s8WQ4vizEmmw"
      },
      "execution_count": null,
      "outputs": []
    },
    {
      "cell_type": "markdown",
      "source": [
        "If running on Google Colab, we load the training data as a Pandas dataframe from Google Drive. Otherwise, we assume it is in the current folder"
      ],
      "metadata": {
        "id": "ePCZSaSwhfgA"
      }
    },
    {
      "cell_type": "code",
      "source": [
        "if 'google.colab' in str(get_ipython()):\n",
        "  from google.colab import drive\n",
        "  drive.mount('/content/gdrive')\n",
        "  csv_path = '/content/gdrive/My Drive/Colab Data'\n",
        "else:\n",
        "  csv_path = '.'\n",
        "\n",
        "df_sample = pd.read_csv(os.path.join(csv_path, 'df_sample_train.csv')\n",
        "df_sample"
      ],
      "metadata": {
        "colab": {
          "base_uri": "https://localhost:8080/",
          "height": 423
        },
        "id": "GsrX8nuQcWyJ",
        "outputId": "1fce6c6d-51a8-4c44-e6d6-deb836e6fa25"
      },
      "execution_count": null,
      "outputs": [
        {
          "output_type": "execute_result",
          "data": {
            "text/plain": [
              "                                                    news        category\n",
              "0      The Hiking Trip That Helped Me Reconnect With ...  HEALTHY LIVING\n",
              "1      Michelle Obama Wants You To Drink More Water B...        WELLNESS\n",
              "2      9 Sins Against Superfoods You've probably seen...        WELLNESS\n",
              "3      Being Tall Might Up Your Risk For This Cancer ...  HEALTHY LIVING\n",
              "4      Why Is It So Hard to Forgive Yourself? It won'...  HEALTHY LIVING\n",
              "...                                                  ...             ...\n",
              "12050  Provigil: Narcolepsy Drug Being Taken By Peopl...        WELLNESS\n",
              "12051                Debunking The Holiday Suicide Myth   HEALTHY LIVING\n",
              "12052  Here's The Real Truth About Mental Health It's...  HEALTHY LIVING\n",
              "12053  Tamiflu Approved By FDA For Infants With New F...        WELLNESS\n",
              "12054  The Simple but Overlooked Key to Achieving You...  HEALTHY LIVING\n",
              "\n",
              "[12055 rows x 2 columns]"
            ],
            "text/html": [
              "\n",
              "  <div id=\"df-ede6448b-4851-4c51-b4a1-575ad4e3afdc\" class=\"colab-df-container\">\n",
              "    <div>\n",
              "<style scoped>\n",
              "    .dataframe tbody tr th:only-of-type {\n",
              "        vertical-align: middle;\n",
              "    }\n",
              "\n",
              "    .dataframe tbody tr th {\n",
              "        vertical-align: top;\n",
              "    }\n",
              "\n",
              "    .dataframe thead th {\n",
              "        text-align: right;\n",
              "    }\n",
              "</style>\n",
              "<table border=\"1\" class=\"dataframe\">\n",
              "  <thead>\n",
              "    <tr style=\"text-align: right;\">\n",
              "      <th></th>\n",
              "      <th>news</th>\n",
              "      <th>category</th>\n",
              "    </tr>\n",
              "  </thead>\n",
              "  <tbody>\n",
              "    <tr>\n",
              "      <th>0</th>\n",
              "      <td>The Hiking Trip That Helped Me Reconnect With ...</td>\n",
              "      <td>HEALTHY LIVING</td>\n",
              "    </tr>\n",
              "    <tr>\n",
              "      <th>1</th>\n",
              "      <td>Michelle Obama Wants You To Drink More Water B...</td>\n",
              "      <td>WELLNESS</td>\n",
              "    </tr>\n",
              "    <tr>\n",
              "      <th>2</th>\n",
              "      <td>9 Sins Against Superfoods You've probably seen...</td>\n",
              "      <td>WELLNESS</td>\n",
              "    </tr>\n",
              "    <tr>\n",
              "      <th>3</th>\n",
              "      <td>Being Tall Might Up Your Risk For This Cancer ...</td>\n",
              "      <td>HEALTHY LIVING</td>\n",
              "    </tr>\n",
              "    <tr>\n",
              "      <th>4</th>\n",
              "      <td>Why Is It So Hard to Forgive Yourself? It won'...</td>\n",
              "      <td>HEALTHY LIVING</td>\n",
              "    </tr>\n",
              "    <tr>\n",
              "      <th>...</th>\n",
              "      <td>...</td>\n",
              "      <td>...</td>\n",
              "    </tr>\n",
              "    <tr>\n",
              "      <th>12050</th>\n",
              "      <td>Provigil: Narcolepsy Drug Being Taken By Peopl...</td>\n",
              "      <td>WELLNESS</td>\n",
              "    </tr>\n",
              "    <tr>\n",
              "      <th>12051</th>\n",
              "      <td>Debunking The Holiday Suicide Myth</td>\n",
              "      <td>HEALTHY LIVING</td>\n",
              "    </tr>\n",
              "    <tr>\n",
              "      <th>12052</th>\n",
              "      <td>Here's The Real Truth About Mental Health It's...</td>\n",
              "      <td>HEALTHY LIVING</td>\n",
              "    </tr>\n",
              "    <tr>\n",
              "      <th>12053</th>\n",
              "      <td>Tamiflu Approved By FDA For Infants With New F...</td>\n",
              "      <td>WELLNESS</td>\n",
              "    </tr>\n",
              "    <tr>\n",
              "      <th>12054</th>\n",
              "      <td>The Simple but Overlooked Key to Achieving You...</td>\n",
              "      <td>HEALTHY LIVING</td>\n",
              "    </tr>\n",
              "  </tbody>\n",
              "</table>\n",
              "<p>12055 rows × 2 columns</p>\n",
              "</div>\n",
              "    <div class=\"colab-df-buttons\">\n",
              "\n",
              "  <div class=\"colab-df-container\">\n",
              "    <button class=\"colab-df-convert\" onclick=\"convertToInteractive('df-ede6448b-4851-4c51-b4a1-575ad4e3afdc')\"\n",
              "            title=\"Convert this dataframe to an interactive table.\"\n",
              "            style=\"display:none;\">\n",
              "\n",
              "  <svg xmlns=\"http://www.w3.org/2000/svg\" height=\"24px\" viewBox=\"0 -960 960 960\">\n",
              "    <path d=\"M120-120v-720h720v720H120Zm60-500h600v-160H180v160Zm220 220h160v-160H400v160Zm0 220h160v-160H400v160ZM180-400h160v-160H180v160Zm440 0h160v-160H620v160ZM180-180h160v-160H180v160Zm440 0h160v-160H620v160Z\"/>\n",
              "  </svg>\n",
              "    </button>\n",
              "\n",
              "  <style>\n",
              "    .colab-df-container {\n",
              "      display:flex;\n",
              "      gap: 12px;\n",
              "    }\n",
              "\n",
              "    .colab-df-convert {\n",
              "      background-color: #E8F0FE;\n",
              "      border: none;\n",
              "      border-radius: 50%;\n",
              "      cursor: pointer;\n",
              "      display: none;\n",
              "      fill: #1967D2;\n",
              "      height: 32px;\n",
              "      padding: 0 0 0 0;\n",
              "      width: 32px;\n",
              "    }\n",
              "\n",
              "    .colab-df-convert:hover {\n",
              "      background-color: #E2EBFA;\n",
              "      box-shadow: 0px 1px 2px rgba(60, 64, 67, 0.3), 0px 1px 3px 1px rgba(60, 64, 67, 0.15);\n",
              "      fill: #174EA6;\n",
              "    }\n",
              "\n",
              "    .colab-df-buttons div {\n",
              "      margin-bottom: 4px;\n",
              "    }\n",
              "\n",
              "    [theme=dark] .colab-df-convert {\n",
              "      background-color: #3B4455;\n",
              "      fill: #D2E3FC;\n",
              "    }\n",
              "\n",
              "    [theme=dark] .colab-df-convert:hover {\n",
              "      background-color: #434B5C;\n",
              "      box-shadow: 0px 1px 3px 1px rgba(0, 0, 0, 0.15);\n",
              "      filter: drop-shadow(0px 1px 2px rgba(0, 0, 0, 0.3));\n",
              "      fill: #FFFFFF;\n",
              "    }\n",
              "  </style>\n",
              "\n",
              "    <script>\n",
              "      const buttonEl =\n",
              "        document.querySelector('#df-ede6448b-4851-4c51-b4a1-575ad4e3afdc button.colab-df-convert');\n",
              "      buttonEl.style.display =\n",
              "        google.colab.kernel.accessAllowed ? 'block' : 'none';\n",
              "\n",
              "      async function convertToInteractive(key) {\n",
              "        const element = document.querySelector('#df-ede6448b-4851-4c51-b4a1-575ad4e3afdc');\n",
              "        const dataTable =\n",
              "          await google.colab.kernel.invokeFunction('convertToInteractive',\n",
              "                                                    [key], {});\n",
              "        if (!dataTable) return;\n",
              "\n",
              "        const docLinkHtml = 'Like what you see? Visit the ' +\n",
              "          '<a target=\"_blank\" href=https://colab.research.google.com/notebooks/data_table.ipynb>data table notebook</a>'\n",
              "          + ' to learn more about interactive tables.';\n",
              "        element.innerHTML = '';\n",
              "        dataTable['output_type'] = 'display_data';\n",
              "        await google.colab.output.renderOutput(dataTable, element);\n",
              "        const docLink = document.createElement('div');\n",
              "        docLink.innerHTML = docLinkHtml;\n",
              "        element.appendChild(docLink);\n",
              "      }\n",
              "    </script>\n",
              "  </div>\n",
              "\n",
              "\n",
              "<div id=\"df-56adfc7f-efa9-4476-8d07-5116dd7f621c\">\n",
              "  <button class=\"colab-df-quickchart\" onclick=\"quickchart('df-56adfc7f-efa9-4476-8d07-5116dd7f621c')\"\n",
              "            title=\"Suggest charts.\"\n",
              "            style=\"display:none;\">\n",
              "\n",
              "<svg xmlns=\"http://www.w3.org/2000/svg\" height=\"24px\"viewBox=\"0 0 24 24\"\n",
              "     width=\"24px\">\n",
              "    <g>\n",
              "        <path d=\"M19 3H5c-1.1 0-2 .9-2 2v14c0 1.1.9 2 2 2h14c1.1 0 2-.9 2-2V5c0-1.1-.9-2-2-2zM9 17H7v-7h2v7zm4 0h-2V7h2v10zm4 0h-2v-4h2v4z\"/>\n",
              "    </g>\n",
              "</svg>\n",
              "  </button>\n",
              "\n",
              "<style>\n",
              "  .colab-df-quickchart {\n",
              "    background-color: #E8F0FE;\n",
              "    border: none;\n",
              "    border-radius: 50%;\n",
              "    cursor: pointer;\n",
              "    display: none;\n",
              "    fill: #1967D2;\n",
              "    height: 32px;\n",
              "    padding: 0 0 0 0;\n",
              "    width: 32px;\n",
              "  }\n",
              "\n",
              "  .colab-df-quickchart:hover {\n",
              "    background-color: #E2EBFA;\n",
              "    box-shadow: 0px 1px 2px rgba(60, 64, 67, 0.3), 0px 1px 3px 1px rgba(60, 64, 67, 0.15);\n",
              "    fill: #174EA6;\n",
              "  }\n",
              "\n",
              "  [theme=dark] .colab-df-quickchart {\n",
              "    background-color: #3B4455;\n",
              "    fill: #D2E3FC;\n",
              "  }\n",
              "\n",
              "  [theme=dark] .colab-df-quickchart:hover {\n",
              "    background-color: #434B5C;\n",
              "    box-shadow: 0px 1px 3px 1px rgba(0, 0, 0, 0.15);\n",
              "    filter: drop-shadow(0px 1px 2px rgba(0, 0, 0, 0.3));\n",
              "    fill: #FFFFFF;\n",
              "  }\n",
              "</style>\n",
              "\n",
              "  <script>\n",
              "    async function quickchart(key) {\n",
              "      const charts = await google.colab.kernel.invokeFunction(\n",
              "          'suggestCharts', [key], {});\n",
              "    }\n",
              "    (() => {\n",
              "      let quickchartButtonEl =\n",
              "        document.querySelector('#df-56adfc7f-efa9-4476-8d07-5116dd7f621c button');\n",
              "      quickchartButtonEl.style.display =\n",
              "        google.colab.kernel.accessAllowed ? 'block' : 'none';\n",
              "    })();\n",
              "  </script>\n",
              "</div>\n",
              "    </div>\n",
              "  </div>\n"
            ]
          },
          "metadata": {},
          "execution_count": 4
        }
      ]
    },
    {
      "cell_type": "markdown",
      "source": [
        "Here we create a custom NeMo *Dataset* class that prepares the inputs for the model"
      ],
      "metadata": {
        "id": "Oz0RUuq3h2jv"
      }
    },
    {
      "cell_type": "code",
      "source": [
        "class NewsCategoryDataset(Dataset):\n",
        "    def __init__(self, csv_path, tokenizer):\n",
        "        \"\"\"\n",
        "        Args:\n",
        "        csv_path (string): Path to the CSV file with 'news' and 'category'.\n",
        "        tokenizer (AutoTokenizer): Tokenizer from Hugging Face's Transformers library.\n",
        "        \"\"\"\n",
        "        # Load the dataset from the CSV file\n",
        "        self.data = pd.read_csv(csv_path)\n",
        "\n",
        "        # Initialize the tokenizer\n",
        "        self.tokenizer = tokenizer\n",
        "\n",
        "        # Initialize and fit the label encoder\n",
        "        self.label_encoder = LabelEncoder()\n",
        "        self.labels = self.label_encoder.fit_transform(self.data['category'])\n",
        "\n",
        "    def __len__(self):\n",
        "        \"\"\"Returns the size of the dataset.\"\"\"\n",
        "        return len(self.data)\n",
        "\n",
        "    def __getitem__(self, idx):\n",
        "        \"\"\"\n",
        "        Args:\n",
        "        idx (int): The index of the sample to fetch.\n",
        "\n",
        "        Returns:\n",
        "        dict: Dictionary containing the tokenized 'news' and its corresponding label-encoded 'category'.\n",
        "        \"\"\"\n",
        "        # Fetch the news text from the dataset\n",
        "        news_text = self.data.loc[idx, 'news']\n",
        "\n",
        "        # Tokenize the news text\n",
        "        tokens = self.tokenizer(news_text, padding='max_length', truncation=True, return_tensors='pt')\n",
        "\n",
        "        # Fetch the label-encoded category for this news\n",
        "        label = self.labels[idx]\n",
        "\n",
        "        return tokens['input_ids'].squeeze(0), tokens['token_type_ids'].squeeze(0), tokens['attention_mask'].squeeze(0), label\n",
        "\n",
        "    @property\n",
        "    def output_types(self):\n",
        "      return {\n",
        "          'input_ids': NeuralType(('B', 'T'), EmbeddedTextType()),\n",
        "          'token_type_ids': NeuralType(('B', 'T'), IntType(), optional=True),\n",
        "          'attention_mask': NeuralType(('B', 'T'), MaskType()),\n",
        "          'label': NeuralType(('B'), LabelsType())\n",
        "      }"
      ],
      "metadata": {
        "id": "9lIIRvuXcYhE"
      },
      "execution_count": null,
      "outputs": []
    },
    {
      "cell_type": "markdown",
      "source": [
        "We create all NeMo *NeuralModule* classes that will be part of our model. Notice that we are using LoRA to fine tune the encoder layer"
      ],
      "metadata": {
        "id": "NJTLNUdOjAPP"
      }
    },
    {
      "cell_type": "code",
      "source": [
        "# Encoder Layer\n",
        "class EncoderLayer(NeuralModule):\n",
        "    def __init__(self, model_name='sentence-transformers/all-MiniLM-L6-v2', **kwargs):\n",
        "        super().__init__(**kwargs)\n",
        "\n",
        "        self.encoder = AutoModel.from_pretrained(model_name)\n",
        "        lora_target_modules = [f'encoder.layer.{n}.attention.self.query' for n in range(6)]\n",
        "        lora_target_modules = lora_target_modules + [f'encoder.layer.{n}.attention.self.key' for n in range(6)]\n",
        "        lora_target_modules = lora_target_modules + [f'encoder.layer.{n}.attention.self.value' for n in range(6)]\n",
        "        peft_config = LoraConfig(\n",
        "        task_type=TaskType.FEATURE_EXTRACTION, inference_mode=False, r=16, lora_alpha=16, lora_dropout=0.1, bias='all', target_modules=lora_target_modules\n",
        "        )\n",
        "        self.encoder = get_peft_model(self.encoder, peft_config)\n",
        "\n",
        "        self.tokenizer = AutoTokenizer.from_pretrained(model_name)\n",
        "\n",
        "    @typecheck()\n",
        "    def forward(self, **encoded_inputs):\n",
        "        return self.encoder(input_ids=encoded_inputs['input_ids'],\n",
        "                            token_type_ids=encoded_inputs['token_type_ids'],\n",
        "                            attention_mask=encoded_inputs['attention_mask'])\n",
        "\n",
        "    @property\n",
        "    def input_types(self):\n",
        "        return {\n",
        "            'input_ids': NeuralType(('B', 'T'), EmbeddedTextType()),\n",
        "            'token_type_ids': NeuralType(('B', 'T'), IntType(), optional=True),\n",
        "            'attention_mask': NeuralType(('B', 'T'), MaskType())\n",
        "        }\n",
        "\n",
        "    @property\n",
        "    def output_types(self):\n",
        "        return {'last_hidden_states': NeuralType(('B', 'T', 'D'), EncodedRepresentation())}\n",
        "\n",
        "# Pooling Layer\n",
        "class PoolingLayer(NeuralModule):\n",
        "    def __init__(self, **kwargs):\n",
        "        super().__init__(**kwargs)\n",
        "\n",
        "    @typecheck()\n",
        "    def forward(self, **pooling_inputs):\n",
        "        last_hidden_states = pooling_inputs['last_hidden_states']\n",
        "        attention_mask = pooling_inputs['attention_mask']\n",
        "        input_mask_expanded = attention_mask.unsqueeze(-1).expand(last_hidden_states.size()).float()\n",
        "        return torch.sum(last_hidden_states * input_mask_expanded, 1) / torch.clamp(input_mask_expanded.sum(1), min=1e-9)\n",
        "\n",
        "    @property\n",
        "    def input_types(self):\n",
        "        return {\n",
        "            'last_hidden_states': NeuralType(('B', 'T', 'D'), EncodedRepresentation()),\n",
        "            'attention_mask': NeuralType(('B', 'T'), MaskType())\n",
        "        }\n",
        "\n",
        "    @property\n",
        "    def output_types(self):\n",
        "        return {'sentence_embeddings': NeuralType(('B', 'D'), EncodedRepresentation())}\n",
        "\n",
        "# Normalization Layer\n",
        "class NormLayer(NeuralModule):\n",
        "    def __init__(self, **kwargs):\n",
        "        super().__init__(**kwargs)\n",
        "\n",
        "    @typecheck()\n",
        "    def forward(self, sentence_embeddings):\n",
        "        return F.normalize(sentence_embeddings, p=2, dim=1)\n",
        "\n",
        "    @property\n",
        "    def input_types(self):\n",
        "        return {'sentence_embeddings': NeuralType(('B', 'D'), EncodedRepresentation())}\n",
        "\n",
        "    @property\n",
        "    def output_types(self):\n",
        "        return {'sentence_embeddings': NeuralType(('B', 'D'), EncodedRepresentation())}\n",
        "\n",
        "# Loss Function\n",
        "class TripletLoss(BatchSemiHardTripletLoss, NeuralModule):\n",
        "    def __init__(self):\n",
        "        super(TripletLoss, self).__init__(None)\n",
        "\n",
        "    @typecheck()\n",
        "    def forward(self, **loss_inputs):\n",
        "        return self.batch_semi_hard_triplet_loss(loss_inputs['labels'], loss_inputs['sentence_embeddings'])\n",
        "\n",
        "    @property\n",
        "    def input_types(self):\n",
        "        return {\n",
        "            'sentence_embeddings': NeuralType(('B', 'D'), EncodedRepresentation()),\n",
        "            'labels': NeuralType(('B'), LabelsType())\n",
        "        }\n",
        "\n",
        "    @property\n",
        "    def output_types(self):\n",
        "        return {'loss': NeuralType((), LossType())}"
      ],
      "metadata": {
        "id": "h82Qs2WpEsqh"
      },
      "execution_count": null,
      "outputs": []
    },
    {
      "cell_type": "markdown",
      "source": [
        "And then we create the NeMo *ModelPT* class, which makes use of all *NeuralModule* classes we defined earlier, and also includes everything we need to train and test it with PyTorch Lightning"
      ],
      "metadata": {
        "id": "7edAUKPAjO9S"
      }
    },
    {
      "cell_type": "code",
      "source": [
        "# Sentence Transformer Model\n",
        "class SentenceTransformer(ModelPT):\n",
        "    def __init__(self, cfg: OmegaConf, trainer: ptl.Trainer = None):\n",
        "      super().__init__(cfg=cfg, trainer=trainer)\n",
        "\n",
        "      self.encoder_layer = self.from_config_dict(self.cfg.encoder)\n",
        "      self.pooling_layer = self.from_config_dict(self.cfg.pooling)\n",
        "      self.normalization_layer = self.from_config_dict(self.cfg.normalization)\n",
        "\n",
        "      self.loss = TripletLoss()\n",
        "\n",
        "    # def forward(self, encoded_inputs):\n",
        "    #   outputs = self.encoder_layer(encoded_inputs)\n",
        "    def forward(self, **encoded_inputs):\n",
        "      outputs = self.encoder_layer(input_ids=encoded_inputs['input_ids'],\n",
        "                                   token_type_ids=encoded_inputs['token_type_ids'],\n",
        "                                   attention_mask=encoded_inputs['attention_mask'])\n",
        "      sentence_embeddings = self.pooling_layer(last_hidden_states=outputs[0],\n",
        "                                               attention_mask=encoded_inputs['attention_mask'])\n",
        "      norm_embeddings = self.normalization_layer(sentence_embeddings=sentence_embeddings)\n",
        "      return norm_embeddings\n",
        "\n",
        "    @property\n",
        "    def input_types(self):\n",
        "      return {\n",
        "          'input_ids': NeuralType(('B', 'T'), EmbeddedTextType()),\n",
        "          'token_type_ids': NeuralType(('B', 'T'), IntType(), optional=True),\n",
        "          'attention_mask': NeuralType(('B', 'T'), MaskType())\n",
        "      }\n",
        "\n",
        "    @property\n",
        "    def output_types(self):\n",
        "      return {'sentence_embeddings': NeuralType(('B', 'D'), EncodedRepresentation())}\n",
        "\n",
        "    @classmethod\n",
        "    def list_available_models(cls) -> PretrainedModelInfo:\n",
        "      return None\n",
        "\n",
        "    def _setup_data_loader(self, cfg):\n",
        "      dataset = NewsCategoryDataset(csv_path=cfg.csv_path, tokenizer=EncoderLayer().tokenizer)\n",
        "      return DataLoader(\n",
        "        dataset=dataset,\n",
        "        batch_size=cfg.batch_size,\n",
        "        shuffle=cfg.shuffle,\n",
        "        collate_fn=dataset.collate_fn,  # <-- this is necessary for type checking\n",
        "        pin_memory=cfg.pin_memory if 'pin_memory' in cfg else False,\n",
        "        num_workers=cfg.num_workers if 'num_workers' in cfg else 0\n",
        "    )\n",
        "\n",
        "    def setup_training_data(self, train_data_config: OmegaConf):\n",
        "      self._train_dl = self._setup_data_loader(train_data_config)\n",
        "\n",
        "    def setup_validation_data(self, val_data_config: OmegaConf):\n",
        "      self._validation_dl = self._setup_data_loader(val_data_config)\n",
        "\n",
        "    def setup_test_data(self, test_data_config: OmegaConf):\n",
        "      self._test_dl = self._setup_data_loader(test_data_config)\n",
        "\n",
        "    def configure_optimizers(self):\n",
        "      no_decay = ['bias', 'LayerNorm.weight']\n",
        "      optimizer_grouped_parameters = [\n",
        "          {'params': [p for n, p in self.named_parameters() if not any(nd in n for nd in no_decay)],\n",
        "          'weight_decay_rate': self.cfg.optim.weight_decay},\n",
        "          {'params': [p for n, p in self.named_parameters() if any(nd in n for nd in no_decay)],\n",
        "          'weight_decay_rate': 0.0}\n",
        "      ]\n",
        "      optimizer = AdamW(optimizer_grouped_parameters, lr=self.cfg.optim.learning_rate, eps=self.cfg.optim.adam_epsilon)\n",
        "      return optimizer\n",
        "\n",
        "    def step_(self, split, batch, batch_idx=None):\n",
        "      # labels = batch['label']\n",
        "      # embeddings = self({'input_ids': batch['input_ids'], 'token_type_ids': batch['token_type_ids'], 'attention_mask': batch['attention_mask']})\n",
        "      labels = batch[-1]\n",
        "      # inputs = {'input_ids': batch[0], 'token_type_ids': batch[1], 'attention_mask': batch[2]}\n",
        "      sentence_embeddings = self(input_ids=batch[0], token_type_ids=batch[1], attention_mask=batch[2])\n",
        "      loss = self.loss(labels=labels, sentence_embeddings=sentence_embeddings)\n",
        "      key = 'loss' if split == 'train' else f\"{split}_loss\"\n",
        "      self.log(key, loss)\n",
        "      return {key: loss}\n",
        "\n",
        "    def training_step(self, *args, **kwargs):\n",
        "      return self.step_('train', *args, **kwargs)\n",
        "\n",
        "    def validation_step(self, *args, **kwargs):\n",
        "      return self.step_('val', *args, **kwargs)\n",
        "\n",
        "    def test_step(self, *args, **kwargs):\n",
        "      return self.step_('test', *args, **kwargs)\n",
        "\n",
        "    def multi_validation_epoch_end(self, outputs, dataloader_idx: int = 0):\n",
        "      val_loss_mean = torch.stack([x['val_loss'] for x in outputs]).mean()\n",
        "      return {'val_loss': val_loss_mean}\n",
        "\n",
        "    def multi_test_epoch_end(self, outputs, dataloader_idx: int = 0):\n",
        "      test_loss_mean = torch.stack([x['test_loss'] for x in outputs]).mean()\n",
        "      return {'test_loss': test_loss_mean}"
      ],
      "metadata": {
        "id": "r457yXvYIAc0"
      },
      "execution_count": null,
      "outputs": []
    },
    {
      "cell_type": "markdown",
      "source": [
        "Here we define a simple set of configurations that we will use to instantiate, train, and test the model, using *omegaconf*"
      ],
      "metadata": {
        "id": "8zFg8r-slsV7"
      }
    },
    {
      "cell_type": "code",
      "source": [
        "# utility function for building the class path\n",
        "def get_class_path(cls):\n",
        "  return f'{cls.__module__}.{cls.__name__}'\n",
        "\n",
        "common_config = OmegaConf.create({\n",
        "    'model_name': MISSING,\n",
        "    'csv_path_train': MISSING,\n",
        "    'csv_path_val': MISSING,\n",
        "    'csv_path_test': MISSING\n",
        "})\n",
        "\n",
        "encoder_config = OmegaConf.create({\n",
        "    '_target_': get_class_path(EncoderLayer),\n",
        "    'model_name': '${model.model_name}'\n",
        "})\n",
        "\n",
        "pooling_config = OmegaConf.create({\n",
        "    '_target_': get_class_path(PoolingLayer)\n",
        "})\n",
        "\n",
        "normalization_config = OmegaConf.create({\n",
        "    '_target_': get_class_path(NormLayer)\n",
        "})\n",
        "\n",
        "optim_config = OmegaConf.create({\n",
        "    'learning_rate': 1e-5,\n",
        "    'adam_epsilon': 1e-8,\n",
        "    'weight_decay': 0.2\n",
        "\n",
        "})\n",
        "\n",
        "train_ds_config = OmegaConf.create({\n",
        "    'csv_path': '${model.csv_path_train}',\n",
        "    'shuffle': True,\n",
        "    'batch_size': 32\n",
        "})\n",
        "\n",
        "val_ds_config = OmegaConf.create({\n",
        "    'csv_path': '${model.csv_path_val}',\n",
        "    'shuffle': False,\n",
        "    'batch_size': 4\n",
        "})\n",
        "\n",
        "test_ds_config = OmegaConf.create({\n",
        "    'csv_path': '${model.csv_path_test}',\n",
        "    'shuffle': False,\n",
        "    'batch_size': 4\n",
        "})\n",
        "\n",
        "# create the model config with the common config first\n",
        "model_config = OmegaConf.create({\n",
        "    'model': common_config\n",
        "})\n",
        "\n",
        "# then attach the sub-module configs\n",
        "model_config.model.encoder = encoder_config\n",
        "model_config.model.pooling = pooling_config\n",
        "model_config.model.normalization = normalization_config\n",
        "model_config.model.optim = optim_config\n",
        "model_config.model.train_ds = train_ds_config\n",
        "model_config.model.val_ds = val_ds_config\n",
        "model_config.model.test_ds = test_ds_config"
      ],
      "metadata": {
        "id": "YMdPDkAwIEUt"
      },
      "execution_count": null,
      "outputs": []
    },
    {
      "cell_type": "code",
      "source": [
        "print(OmegaConf.to_yaml(model_config))"
      ],
      "metadata": {
        "colab": {
          "base_uri": "https://localhost:8080/"
        },
        "id": "X7JL2gMQIUVQ",
        "outputId": "3f27c369-6ca4-4afe-f7b5-26570806f08c"
      },
      "execution_count": null,
      "outputs": [
        {
          "output_type": "stream",
          "name": "stdout",
          "text": [
            "model:\n",
            "  model_name: ???\n",
            "  csv_path_train: ???\n",
            "  csv_path_val: ???\n",
            "  csv_path_test: ???\n",
            "  encoder:\n",
            "    _target_: __main__.EncoderLayer\n",
            "    model_name: ${model.model_name}\n",
            "  pooling:\n",
            "    _target_: __main__.PoolingLayer\n",
            "  normalization:\n",
            "    _target_: __main__.NormLayer\n",
            "  optim:\n",
            "    learning_rate: 1.0e-05\n",
            "    adam_epsilon: 1.0e-08\n",
            "    weight_decay: 0.2\n",
            "  train_ds:\n",
            "    csv_path: ${model.csv_path_train}\n",
            "    shuffle: true\n",
            "    batch_size: 32\n",
            "  val_ds:\n",
            "    csv_path: ${model.csv_path_val}\n",
            "    shuffle: false\n",
            "    batch_size: 4\n",
            "  test_ds:\n",
            "    csv_path: ${model.csv_path_test}\n",
            "    shuffle: false\n",
            "    batch_size: 4\n",
            "\n"
          ]
        }
      ]
    },
    {
      "cell_type": "markdown",
      "source": [
        "Here we define a PyTorch Lightning *Trainer*"
      ],
      "metadata": {
        "id": "tKPa1bKRma7b"
      }
    },
    {
      "cell_type": "code",
      "source": [
        "if torch.cuda.is_available():\n",
        "  accelerator = 'gpu'\n",
        "else:\n",
        "  accelerator = 'cpu'\n",
        "\n",
        "trainer = ptl.Trainer(devices=1, accelerator=accelerator, precision=16, max_epochs=3)"
      ],
      "metadata": {
        "colab": {
          "base_uri": "https://localhost:8080/"
        },
        "id": "ViBJMqtO_RTj",
        "outputId": "33d65411-7e42-4086-df94-1614844ad87d"
      },
      "execution_count": null,
      "outputs": [
        {
          "output_type": "stream",
          "name": "stderr",
          "text": [
            "INFO:pytorch_lightning.utilities.rank_zero:Using 16bit None Automatic Mixed Precision (AMP)\n",
            "INFO:pytorch_lightning.utilities.rank_zero:GPU available: True (cuda), used: True\n",
            "INFO:pytorch_lightning.utilities.rank_zero:TPU available: False, using: 0 TPU cores\n",
            "INFO:pytorch_lightning.utilities.rank_zero:IPU available: False, using: 0 IPUs\n",
            "INFO:pytorch_lightning.utilities.rank_zero:HPU available: False, using: 0 HPUs\n"
          ]
        }
      ]
    },
    {
      "cell_type": "markdown",
      "source": [
        "We instantiate the model with the configuration we defined earlier, but here passing the paths to the datasets and changing some of the training parameters"
      ],
      "metadata": {
        "id": "TRnJgtnummKh"
      }
    },
    {
      "cell_type": "code",
      "source": [
        "cfg = copy.deepcopy(model_config)\n",
        "cfg.model.model_name = \"sentence-transformers/all-MiniLM-L6-v2\"\n",
        "cfg.model.csv_path_train = \"/content/gdrive/My Drive/Colab Data/df_sample_train.csv\"\n",
        "cfg.model.csv_path_val = \"/content/gdrive/My Drive/Colab Data/df_sample_val.csv\"\n",
        "cfg.model.csv_path_test = \"/content/gdrive/My Drive/Colab Data/df_sample_test.csv\"\n",
        "cfg.model.optim.learning_rate = 5e-4\n",
        "cfg.model.train_ds.batch_size = 64\n",
        "\n",
        "model = SentenceTransformer(cfg.model, trainer=trainer)"
      ],
      "metadata": {
        "id": "tDNJyZDTIYfk"
      },
      "execution_count": null,
      "outputs": []
    },
    {
      "cell_type": "markdown",
      "source": [
        "Print the model architecture"
      ],
      "metadata": {
        "id": "z2u-QnY9nBi9"
      }
    },
    {
      "cell_type": "code",
      "source": [
        "model"
      ],
      "metadata": {
        "colab": {
          "base_uri": "https://localhost:8080/"
        },
        "id": "0cuMsqiLIeV_",
        "outputId": "e866f759-8c69-4a9a-8ecf-36ce54c3214f"
      },
      "execution_count": null,
      "outputs": [
        {
          "output_type": "execute_result",
          "data": {
            "text/plain": [
              "SentenceTransformer(\n",
              "  (encoder_layer): EncoderLayer(\n",
              "    (encoder): PeftModelForFeatureExtraction(\n",
              "      (base_model): LoraModel(\n",
              "        (model): BertModel(\n",
              "          (embeddings): BertEmbeddings(\n",
              "            (word_embeddings): Embedding(30522, 384, padding_idx=0)\n",
              "            (position_embeddings): Embedding(512, 384)\n",
              "            (token_type_embeddings): Embedding(2, 384)\n",
              "            (LayerNorm): LayerNorm((384,), eps=1e-12, elementwise_affine=True)\n",
              "            (dropout): Dropout(p=0.1, inplace=False)\n",
              "          )\n",
              "          (encoder): BertEncoder(\n",
              "            (layer): ModuleList(\n",
              "              (0-5): 6 x BertLayer(\n",
              "                (attention): BertAttention(\n",
              "                  (self): BertSelfAttention(\n",
              "                    (query): Linear(\n",
              "                      in_features=384, out_features=384, bias=True\n",
              "                      (lora_dropout): ModuleDict(\n",
              "                        (default): Dropout(p=0.1, inplace=False)\n",
              "                      )\n",
              "                      (lora_A): ModuleDict(\n",
              "                        (default): Linear(in_features=384, out_features=16, bias=False)\n",
              "                      )\n",
              "                      (lora_B): ModuleDict(\n",
              "                        (default): Linear(in_features=16, out_features=384, bias=False)\n",
              "                      )\n",
              "                      (lora_embedding_A): ParameterDict()\n",
              "                      (lora_embedding_B): ParameterDict()\n",
              "                    )\n",
              "                    (key): Linear(\n",
              "                      in_features=384, out_features=384, bias=True\n",
              "                      (lora_dropout): ModuleDict(\n",
              "                        (default): Dropout(p=0.1, inplace=False)\n",
              "                      )\n",
              "                      (lora_A): ModuleDict(\n",
              "                        (default): Linear(in_features=384, out_features=16, bias=False)\n",
              "                      )\n",
              "                      (lora_B): ModuleDict(\n",
              "                        (default): Linear(in_features=16, out_features=384, bias=False)\n",
              "                      )\n",
              "                      (lora_embedding_A): ParameterDict()\n",
              "                      (lora_embedding_B): ParameterDict()\n",
              "                    )\n",
              "                    (value): Linear(\n",
              "                      in_features=384, out_features=384, bias=True\n",
              "                      (lora_dropout): ModuleDict(\n",
              "                        (default): Dropout(p=0.1, inplace=False)\n",
              "                      )\n",
              "                      (lora_A): ModuleDict(\n",
              "                        (default): Linear(in_features=384, out_features=16, bias=False)\n",
              "                      )\n",
              "                      (lora_B): ModuleDict(\n",
              "                        (default): Linear(in_features=16, out_features=384, bias=False)\n",
              "                      )\n",
              "                      (lora_embedding_A): ParameterDict()\n",
              "                      (lora_embedding_B): ParameterDict()\n",
              "                    )\n",
              "                    (dropout): Dropout(p=0.1, inplace=False)\n",
              "                  )\n",
              "                  (output): BertSelfOutput(\n",
              "                    (dense): Linear(in_features=384, out_features=384, bias=True)\n",
              "                    (LayerNorm): LayerNorm((384,), eps=1e-12, elementwise_affine=True)\n",
              "                    (dropout): Dropout(p=0.1, inplace=False)\n",
              "                  )\n",
              "                )\n",
              "                (intermediate): BertIntermediate(\n",
              "                  (dense): Linear(in_features=384, out_features=1536, bias=True)\n",
              "                  (intermediate_act_fn): GELUActivation()\n",
              "                )\n",
              "                (output): BertOutput(\n",
              "                  (dense): Linear(in_features=1536, out_features=384, bias=True)\n",
              "                  (LayerNorm): LayerNorm((384,), eps=1e-12, elementwise_affine=True)\n",
              "                  (dropout): Dropout(p=0.1, inplace=False)\n",
              "                )\n",
              "              )\n",
              "            )\n",
              "          )\n",
              "          (pooler): BertPooler(\n",
              "            (dense): Linear(in_features=384, out_features=384, bias=True)\n",
              "            (activation): Tanh()\n",
              "          )\n",
              "        )\n",
              "      )\n",
              "    )\n",
              "  )\n",
              "  (pooling_layer): PoolingLayer()\n",
              "  (normalization_layer): NormLayer()\n",
              "  (loss): TripletLoss()\n",
              ")"
            ]
          },
          "metadata": {},
          "execution_count": 12
        }
      ]
    },
    {
      "cell_type": "markdown",
      "source": [
        "Checking the number of trainable parameters after setting LoRA for the encoder self-attention layers"
      ],
      "metadata": {
        "id": "_65qk92DnFFn"
      }
    },
    {
      "cell_type": "code",
      "source": [
        "model.encoder_layer.encoder.print_trainable_parameters()"
      ],
      "metadata": {
        "colab": {
          "base_uri": "https://localhost:8080/"
        },
        "id": "s8lRsyf4RNCQ",
        "outputId": "bd05cf1d-5c50-4276-feb2-10acb90e5fa4"
      },
      "execution_count": null,
      "outputs": [
        {
          "output_type": "stream",
          "name": "stdout",
          "text": [
            "trainable params: 247,296 || all params: 22,934,400 || trainable%: 1.0782754290498116\n"
          ]
        }
      ]
    },
    {
      "cell_type": "markdown",
      "source": [
        "Train the model"
      ],
      "metadata": {
        "id": "TncRNuc6ngdb"
      }
    },
    {
      "cell_type": "code",
      "source": [
        "trainer.fit(model)"
      ],
      "metadata": {
        "colab": {
          "base_uri": "https://localhost:8080/",
          "height": 364,
          "referenced_widgets": [
            "2076c526e35e49e7923e41b2e0e8e79f",
            "4724d6d43f11420abac2354db355b45b",
            "0276678215c34f948548dc8b57087b32",
            "99f736e4d4054f8e95af475a857aea4d",
            "2aa694760ea44245a6b196c927ec9466",
            "7ad490d0fc384f7a86aefa9f0d3ce718",
            "08b28e772e03402db152eca10e8d2eae",
            "e2368b8371f94bfd878addbe9ec4cde2",
            "296f9850bf934d7b94bc40a02b4bdb8d",
            "efb3743a39b04f8c865e8d00a943f1a1",
            "8acfd06bac8b4bf0b0b2f5372ee1a885",
            "3ff5ab2a123c4a6ab2ac3be3b43949b5",
            "de80c94086d44b8f9b6ab77de7d20d84",
            "68301c93b9b24d4f9fdd4871477ed2bc",
            "246236f6c74a49d39ccad4c90e4ea75c",
            "06bec4fc6ef046559ca56824178c17a3",
            "80fb812b56744834b47575bcea9713dc",
            "e0944d5b5e034f198348623910c0a717",
            "e737e730f1fc49c0a37be1092766fb00",
            "c04863bdbfd34517903733fc28b6784d",
            "6fdd6ea0076649d7b34ced8f2630b838",
            "7079df845591404cb1362189d43b2d70"
          ]
        },
        "id": "VrCsGxFsm8x5",
        "outputId": "f6981cd1-24f5-4d2b-b015-7bb26e885a3f"
      },
      "execution_count": null,
      "outputs": [
        {
          "output_type": "stream",
          "name": "stderr",
          "text": [
            "INFO:pytorch_lightning.accelerators.cuda:LOCAL_RANK: 0 - CUDA_VISIBLE_DEVICES: [0]\n",
            "INFO:pytorch_lightning.callbacks.model_summary:\n",
            "  | Name                | Type         | Params\n",
            "-----------------------------------------------------\n",
            "0 | encoder_layer       | EncoderLayer | 22.9 M\n",
            "1 | pooling_layer       | PoolingLayer | 0     \n",
            "2 | normalization_layer | NormLayer    | 0     \n",
            "3 | loss                | TripletLoss  | 0     \n",
            "-----------------------------------------------------\n",
            "247 K     Trainable params\n",
            "22.7 M    Non-trainable params\n",
            "22.9 M    Total params\n",
            "45.869    Total estimated model params size (MB)\n"
          ]
        },
        {
          "output_type": "display_data",
          "data": {
            "text/plain": [
              "Sanity Checking: 0it [00:00, ?it/s]"
            ],
            "application/vnd.jupyter.widget-view+json": {
              "version_major": 2,
              "version_minor": 0,
              "model_id": "2076c526e35e49e7923e41b2e0e8e79f"
            }
          },
          "metadata": {}
        },
        {
          "output_type": "stream",
          "name": "stderr",
          "text": [
            "[NeMo W 2023-08-21 00:20:21 nemo_logging:349] /usr/local/lib/python3.10/dist-packages/pytorch_lightning/trainer/connectors/data_connector.py:366: UserWarning: One of given dataloaders is None and it will be skipped.\n",
            "      rank_zero_warn(\"One of given dataloaders is None and it will be skipped.\")\n",
            "    \n"
          ]
        },
        {
          "output_type": "display_data",
          "data": {
            "text/plain": [
              "Training: 0it [00:00, ?it/s]"
            ],
            "application/vnd.jupyter.widget-view+json": {
              "version_major": 2,
              "version_minor": 0,
              "model_id": "3ff5ab2a123c4a6ab2ac3be3b43949b5"
            }
          },
          "metadata": {}
        },
        {
          "output_type": "stream",
          "name": "stderr",
          "text": [
            "INFO:pytorch_lightning.utilities.rank_zero:`Trainer.fit` stopped: `max_epochs=3` reached.\n"
          ]
        }
      ]
    },
    {
      "cell_type": "markdown",
      "source": [
        "Evaluate the model on the test dataset"
      ],
      "metadata": {
        "id": "ffLZGPWwnoWz"
      }
    },
    {
      "cell_type": "code",
      "source": [
        "trainer.test(model)"
      ],
      "metadata": {
        "colab": {
          "base_uri": "https://localhost:8080/",
          "height": 167,
          "referenced_widgets": [
            "9712a6620a5d46198c40b4b74a6b61f5",
            "64b08e1e7e284b5eac5c475bf2dc9910",
            "7710827001644cdf8b5523fd0a50cc40",
            "5810bacde4af4d609fdca3e5b4b215ac",
            "c2159f04ccea405b858b885841f4ed17",
            "c4ca05e3b64e468382a266594c817245",
            "552690f8b55443488ff930100296320c",
            "8364cac7ca5b4113bda396b19127c702",
            "5158751aada4482eb580e11e65fb6842",
            "9d9975bc9f2e42eba36e3f4698bc1592",
            "5b3884df98914899aeb7d72c5b5468d9"
          ]
        },
        "id": "8bUSzbPokkmk",
        "outputId": "0e17065f-4b2a-4831-ceea-662d03b7fb23"
      },
      "execution_count": null,
      "outputs": [
        {
          "output_type": "stream",
          "name": "stderr",
          "text": [
            "INFO:pytorch_lightning.accelerators.cuda:LOCAL_RANK: 0 - CUDA_VISIBLE_DEVICES: [0]\n"
          ]
        },
        {
          "output_type": "display_data",
          "data": {
            "text/plain": [
              "Testing: 0it [00:00, ?it/s]"
            ],
            "application/vnd.jupyter.widget-view+json": {
              "version_major": 2,
              "version_minor": 0,
              "model_id": "9712a6620a5d46198c40b4b74a6b61f5"
            }
          },
          "metadata": {}
        },
        {
          "output_type": "display_data",
          "data": {
            "text/plain": [
              "┏━━━━━━━━━━━━━━━━━━━━━━━━━━━┳━━━━━━━━━━━━━━━━━━━━━━━━━━━┓\n",
              "┃\u001b[1m \u001b[0m\u001b[1m       Test metric       \u001b[0m\u001b[1m \u001b[0m┃\u001b[1m \u001b[0m\u001b[1m      DataLoader 0       \u001b[0m\u001b[1m \u001b[0m┃\n",
              "┡━━━━━━━━━━━━━━━━━━━━━━━━━━━╇━━━━━━━━━━━━━━━━━━━━━━━━━━━┩\n",
              "│\u001b[36m \u001b[0m\u001b[36m        test_loss        \u001b[0m\u001b[36m \u001b[0m│\u001b[35m \u001b[0m\u001b[35m    4.773415565490723    \u001b[0m\u001b[35m \u001b[0m│\n",
              "└───────────────────────────┴───────────────────────────┘\n"
            ],
            "text/html": [
              "<pre style=\"white-space:pre;overflow-x:auto;line-height:normal;font-family:Menlo,'DejaVu Sans Mono',consolas,'Courier New',monospace\">┏━━━━━━━━━━━━━━━━━━━━━━━━━━━┳━━━━━━━━━━━━━━━━━━━━━━━━━━━┓\n",
              "┃<span style=\"font-weight: bold\">        Test metric        </span>┃<span style=\"font-weight: bold\">       DataLoader 0        </span>┃\n",
              "┡━━━━━━━━━━━━━━━━━━━━━━━━━━━╇━━━━━━━━━━━━━━━━━━━━━━━━━━━┩\n",
              "│<span style=\"color: #008080; text-decoration-color: #008080\">         test_loss         </span>│<span style=\"color: #800080; text-decoration-color: #800080\">     4.773415565490723     </span>│\n",
              "└───────────────────────────┴───────────────────────────┘\n",
              "</pre>\n"
            ]
          },
          "metadata": {}
        },
        {
          "output_type": "execute_result",
          "data": {
            "text/plain": [
              "[{'test_loss': 4.773415565490723}]"
            ]
          },
          "metadata": {},
          "execution_count": 15
        }
      ]
    },
    {
      "cell_type": "markdown",
      "source": [
        "Save the model to disk using the serialization provided by NeMo"
      ],
      "metadata": {
        "id": "-RtsNb5cnrnO"
      }
    },
    {
      "cell_type": "code",
      "source": [
        "model.save_to('./nemo_sentence_transformer.nemo')"
      ],
      "metadata": {
        "id": "2lxBhJ28nqc7"
      },
      "execution_count": null,
      "outputs": []
    },
    {
      "cell_type": "code",
      "source": [
        "temp_model = SentenceTransformer.restore_from('./nemo_sentence_transformer.nemo')"
      ],
      "metadata": {
        "colab": {
          "base_uri": "https://localhost:8080/"
        },
        "id": "fD7CXiY_oldI",
        "outputId": "baaf80eb-1a0f-4247-d574-464af5b50e68"
      },
      "execution_count": null,
      "outputs": [
        {
          "output_type": "stream",
          "name": "stderr",
          "text": [
            "[NeMo W 2023-08-21 00:28:20 modelPT:161] If you intend to do training or fine-tuning, please call the ModelPT.setup_training_data() method and provide a valid configuration file to setup the train data loader.\n",
            "    Train config : \n",
            "    csv_path: /content/gdrive/My Drive/Colab Data/df_sample_train.csv\n",
            "    shuffle: true\n",
            "    batch_size: 64\n",
            "    \n",
            "[NeMo W 2023-08-21 00:28:20 modelPT:174] Please call the ModelPT.setup_test_data() or ModelPT.setup_multiple_test_data() method and provide a valid configuration file to setup the test data loader(s).\n",
            "    Test config : \n",
            "    csv_path: /content/gdrive/My Drive/Colab Data/df_sample_test.csv\n",
            "    shuffle: false\n",
            "    batch_size: 4\n",
            "    \n"
          ]
        },
        {
          "output_type": "stream",
          "name": "stdout",
          "text": [
            "[NeMo I 2023-08-21 00:28:21 save_restore_connector:249] Model SentenceTransformer was successfully restored from /content/nemo_sentence_transformer.nemo.\n"
          ]
        }
      ]
    },
    {
      "cell_type": "markdown",
      "source": [
        "Read the saved model from disk and evaluate it again on the test dataset"
      ],
      "metadata": {
        "id": "GY0bEPj-n0ll"
      }
    },
    {
      "cell_type": "code",
      "source": [
        "temp_model.setup_multiple_test_data(temp_model.cfg.test_ds)\n",
        "trainer.test(temp_model)"
      ],
      "metadata": {
        "colab": {
          "base_uri": "https://localhost:8080/",
          "height": 167,
          "referenced_widgets": [
            "8c997504af5844cbbfd1b5ab2e65f1c9",
            "3860028945154a12807f9d7b4150fef5",
            "2e29c82693f24c50bac576708d0299a6",
            "cc6f9b3f2a6645d581690936382f3e76",
            "67ab95ac70e847a795a2d2d36edbf61b",
            "e0a10fd0ebc446a88df82ccab5e3a1e4",
            "f498b632664846018474f8e295b258a2",
            "11e2c2d5065e484db989f5cbc3ddd649",
            "a21e21f43b3d40f787d2957cbbea309a",
            "3aef29205918450c9a6af6b8f1b54feb",
            "1cd494223c2c4ec0a09ee6b8b8e0cd29"
          ]
        },
        "id": "nXTOquK4pKdq",
        "outputId": "8f335b8b-b214-4e3d-dd7b-69efbc57c206"
      },
      "execution_count": null,
      "outputs": [
        {
          "output_type": "stream",
          "name": "stderr",
          "text": [
            "INFO:pytorch_lightning.accelerators.cuda:LOCAL_RANK: 0 - CUDA_VISIBLE_DEVICES: [0]\n"
          ]
        },
        {
          "output_type": "display_data",
          "data": {
            "text/plain": [
              "Testing: 0it [00:00, ?it/s]"
            ],
            "application/vnd.jupyter.widget-view+json": {
              "version_major": 2,
              "version_minor": 0,
              "model_id": "8c997504af5844cbbfd1b5ab2e65f1c9"
            }
          },
          "metadata": {}
        },
        {
          "output_type": "display_data",
          "data": {
            "text/plain": [
              "┏━━━━━━━━━━━━━━━━━━━━━━━━━━━┳━━━━━━━━━━━━━━━━━━━━━━━━━━━┓\n",
              "┃\u001b[1m \u001b[0m\u001b[1m       Test metric       \u001b[0m\u001b[1m \u001b[0m┃\u001b[1m \u001b[0m\u001b[1m      DataLoader 0       \u001b[0m\u001b[1m \u001b[0m┃\n",
              "┡━━━━━━━━━━━━━━━━━━━━━━━━━━━╇━━━━━━━━━━━━━━━━━━━━━━━━━━━┩\n",
              "│\u001b[36m \u001b[0m\u001b[36m        test_loss        \u001b[0m\u001b[36m \u001b[0m│\u001b[35m \u001b[0m\u001b[35m    4.773415565490723    \u001b[0m\u001b[35m \u001b[0m│\n",
              "└───────────────────────────┴───────────────────────────┘\n"
            ],
            "text/html": [
              "<pre style=\"white-space:pre;overflow-x:auto;line-height:normal;font-family:Menlo,'DejaVu Sans Mono',consolas,'Courier New',monospace\">┏━━━━━━━━━━━━━━━━━━━━━━━━━━━┳━━━━━━━━━━━━━━━━━━━━━━━━━━━┓\n",
              "┃<span style=\"font-weight: bold\">        Test metric        </span>┃<span style=\"font-weight: bold\">       DataLoader 0        </span>┃\n",
              "┡━━━━━━━━━━━━━━━━━━━━━━━━━━━╇━━━━━━━━━━━━━━━━━━━━━━━━━━━┩\n",
              "│<span style=\"color: #008080; text-decoration-color: #008080\">         test_loss         </span>│<span style=\"color: #800080; text-decoration-color: #800080\">     4.773415565490723     </span>│\n",
              "└───────────────────────────┴───────────────────────────┘\n",
              "</pre>\n"
            ]
          },
          "metadata": {}
        },
        {
          "output_type": "execute_result",
          "data": {
            "text/plain": [
              "[{'test_loss': 4.773415565490723}]"
            ]
          },
          "metadata": {},
          "execution_count": 18
        }
      ]
    }
  ]
}